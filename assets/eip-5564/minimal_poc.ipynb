{
 "cells": [
  {
   "cell_type": "code",
   "execution_count": 1,
   "id": "d2c6b4cd",
   "metadata": {},
   "outputs": [],
   "source": [
    "# Note that this poc is based on the reply of Vitalik on EthResearch here:\n",
    "# https://ethresear.ch/t/erc721-extension-for-zk-snarks/13237/13\n",
    "\n",
    "# The code is not part of the zk-SNARK implementation an will be moved."
   ]
  },
  {
   "cell_type": "code",
   "execution_count": 2,
   "id": "6bcea120",
   "metadata": {},
   "outputs": [],
   "source": [
    "import hashlib\n",
    "from py_ecc.secp256k1 import *\n",
    "import sha3\n",
    "from eth_account import Account"
   ]
  },
  {
   "cell_type": "markdown",
   "id": "22ca0bf7",
   "metadata": {},
   "source": [
    "$S = G*s$"
   ]
  },
  {
   "cell_type": "code",
   "execution_count": 3,
   "id": "bb9355a0",
   "metadata": {},
   "outputs": [
    {
     "data": {
      "text/plain": [
       "(22246744184454969143801186698733154500632648736073949898323976612504587645286,\n",
       " 110772761940586493986212935445517909380300793379795289150161960681985511655321)"
      ]
     },
     "execution_count": 3,
     "metadata": {},
     "output_type": "execute_result"
    }
   ],
   "source": [
    "# privkey: 0xd952fe0740d9d14011fc8ead3ab7de3c739d3aa93ce9254c10b0134d80d26a30\n",
    "# address: 0x3CB39EA2f14B16B69B451719A7BEd55e0aFEcE8F\n",
    "s = int(0xd952fe0740d9d14011fc8ead3ab7de3c739d3aa93ce9254c10b0134d80d26a30) # private key\n",
    "S = secp256k1.privtopub(s.to_bytes(32, \"big\")) # public key\n",
    "S"
   ]
  },
  {
   "cell_type": "markdown",
   "id": "6895e603",
   "metadata": {},
   "source": [
    "$P = G*p$"
   ]
  },
  {
   "cell_type": "code",
   "execution_count": 4,
   "id": "c8e2d6ad",
   "metadata": {},
   "outputs": [
    {
     "data": {
      "text/plain": [
       "(89565891926547004231252920425935692360644145829622209833684329913297188986597,\n",
       " 12158399299693830322967808612713398636155367887041628176798871954788371653930)"
      ]
     },
     "execution_count": 4,
     "metadata": {},
     "output_type": "execute_result"
    }
   ],
   "source": [
    "# privkey: 0x0000000000000000000000000000000000000000000000000000000000000001\n",
    "# address: 0x7E5F4552091A69125d5DfCb7b8C2659029395Bdf\n",
    "p = int(0x0000000000000000000000000000000000000000000000000000000000000002) # private key\n",
    "P = secp256k1.privtopub(p.to_bytes(32, \"big\")) # public key\n",
    "P"
   ]
  },
  {
   "cell_type": "markdown",
   "id": "174929d7",
   "metadata": {},
   "source": [
    "$P + G*hash(Q)$"
   ]
  },
  {
   "cell_type": "code",
   "execution_count": 5,
   "id": "5f5fbcf4",
   "metadata": {},
   "outputs": [
    {
     "data": {
      "text/plain": [
       "(34986710196311298046001056196012031484809340405385241652824827959002221322031,\n",
       " 37835699564152814660978587905143437663484333033321007899868184134470225816011)"
      ]
     },
     "execution_count": 5,
     "metadata": {},
     "output_type": "execute_result"
    }
   ],
   "source": [
    "Q = secp256k1.multiply(S, p)\n",
    "assert Q == secp256k1.multiply(P, s)\n",
    "Q_hex = sha3.keccak_256(Q[0].to_bytes(32, \"big\")+Q[1].to_bytes(32, \"big\")).hexdigest() # note, toStr conversion\n",
    "Q_hased = bytearray.fromhex(Q_hex)\n",
    "\n",
    "# Sender sends to ...\n",
    "secp256k1.add(P, secp256k1.privtopub(Q_hased))"
   ]
  },
  {
   "cell_type": "markdown",
   "id": "7673e439",
   "metadata": {},
   "source": [
    "$p+hash(Q)$"
   ]
  },
  {
   "cell_type": "code",
   "execution_count": 6,
   "id": "4013b57e",
   "metadata": {},
   "outputs": [
    {
     "data": {
      "text/plain": [
       "(34986710196311298046001056196012031484809340405385241652824827959002221322031,\n",
       " 37835699564152814660978587905143437663484333033321007899868184134470225816011)"
      ]
     },
     "execution_count": 6,
     "metadata": {},
     "output_type": "execute_result"
    }
   ],
   "source": [
    "p_stealth = p + int(Q_hex, 16)\n",
    "\n",
    "# Recipient has private key to ...\n",
    "P_stealth = secp256k1.privtopub(p_stealth.to_bytes(32, \"big\"))\n",
    "P_stealth"
   ]
  },
  {
   "cell_type": "code",
   "execution_count": 7,
   "id": "2712c07b",
   "metadata": {},
   "outputs": [
    {
     "data": {
      "text/plain": [
       "'0xa423e468c7987026D1dC797425a870C5e704E75d'"
      ]
     },
     "execution_count": 7,
     "metadata": {},
     "output_type": "execute_result"
    }
   ],
   "source": [
    "Account.from_key((p_stealth).to_bytes(32, \"big\")).address"
   ]
  }
 ],
 "metadata": {
  "kernelspec": {
   "display_name": "stealth2",
   "language": "python",
   "name": "stealth2"
  },
  "language_info": {
   "codemirror_mode": {
    "name": "ipython",
    "version": 3
   },
   "file_extension": ".py",
   "mimetype": "text/x-python",
   "name": "python",
   "nbconvert_exporter": "python",
   "pygments_lexer": "ipython3",
   "version": "3.10.4"
  }
 },
 "nbformat": 4,
 "nbformat_minor": 5
}
